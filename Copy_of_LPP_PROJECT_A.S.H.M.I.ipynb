{
  "nbformat": 4,
  "nbformat_minor": 0,
  "metadata": {
    "colab": {
      "provenance": [],
      "authorship_tag": "ABX9TyPNyi2/A2SObZJEAlJvdEJ2",
      "include_colab_link": true
    },
    "kernelspec": {
      "name": "python3",
      "display_name": "Python 3"
    },
    "language_info": {
      "name": "python"
    }
  },
  "cells": [
    {
      "cell_type": "markdown",
      "metadata": {
        "id": "view-in-github",
        "colab_type": "text"
      },
      "source": [
        "<a href=\"https://colab.research.google.com/github/AshmiTripathi/LaptopPricePridiction_Project/blob/main/Copy_of_LPP_PROJECT_A.S.H.M.I.ipynb\" target=\"_parent\"><img src=\"https://colab.research.google.com/assets/colab-badge.svg\" alt=\"Open In Colab\"/></a>"
      ]
    },
    {
      "cell_type": "markdown",
      "source": [
        "LAPTOP PRICE PRIDICTION"
      ],
      "metadata": {
        "id": "reWDm-b5GP_n"
      }
    },
    {
      "cell_type": "code",
      "execution_count": null,
      "metadata": {
        "colab": {
          "base_uri": "https://localhost:8080/"
        },
        "id": "pjOjRbOiFRjG",
        "outputId": "1dc663f5-df4e-484c-ba06-8341dfe136ea"
      },
      "outputs": [
        {
          "output_type": "stream",
          "name": "stdout",
          "text": [
            "['.config', 'sample_data']\n"
          ]
        }
      ],
      "source": [
        "import numpy as np\n",
        "import pandas as pd\n",
        "import matplotlib.pyplot as plt\n",
        "import seaborn as sns\n",
        "\n",
        "%matplotlib inline\n",
        "\n",
        "import os\n",
        "print(os.listdir())\n",
        "\n",
        "import warnings\n",
        "warnings.filterwarnings('ignore')"
      ]
    },
    {
      "cell_type": "code",
      "source": [
        "url = \"https://raw.githubusercontent.com/AshmiTripathi/LaptopPricePridiction_Project/main/laptop_data.csv\"\n",
        "df = pd.read_csv(url)"
      ],
      "metadata": {
        "id": "Wq8kAlzXFmmL"
      },
      "execution_count": null,
      "outputs": []
    },
    {
      "cell_type": "code",
      "source": [
        "df.head(1302 )"
      ],
      "metadata": {
        "id": "oTqzGIHsFwn1"
      },
      "execution_count": null,
      "outputs": []
    },
    {
      "cell_type": "markdown",
      "source": [
        "How to analyze DataFrames?"
      ],
      "metadata": {
        "id": "YSWCVRGHGelo"
      }
    },
    {
      "cell_type": "code",
      "source": [
        "## .shape shows the total number of rows and columns of the data frame\n",
        "df.shape"
      ],
      "metadata": {
        "id": "uSZIlYyEGgDh"
      },
      "execution_count": null,
      "outputs": []
    },
    {
      "cell_type": "code",
      "source": [
        "## .index provides the index of the dataframe\n",
        "df.index"
      ],
      "metadata": {
        "id": "pIjFB5OjGn1b"
      },
      "execution_count": null,
      "outputs": []
    },
    {
      "cell_type": "code",
      "source": [
        "# .columns shows the name of each column\n",
        "df.columns"
      ],
      "metadata": {
        "id": "b5-FH4IpGqru"
      },
      "execution_count": null,
      "outputs": []
    },
    {
      "cell_type": "code",
      "source": [
        "## .dtypes shows the datatype of each column\n",
        "df.dtypes"
      ],
      "metadata": {
        "id": "tqxzL-rPGuFa"
      },
      "execution_count": null,
      "outputs": []
    },
    {
      "cell_type": "code",
      "source": [
        "## .unique() shows the unique value in a column. It can be applied on  single column only.\n",
        "df['Company'].unique()"
      ],
      "metadata": {
        "id": "yVzdr5jnG2SL"
      },
      "execution_count": null,
      "outputs": []
    },
    {
      "cell_type": "code",
      "source": [
        "## .nunique() shows the total number of unique values in each column.It can be applied on a single column as well as on whole dataframe.\n",
        "df.nunique()"
      ],
      "metadata": {
        "id": "E9LTendBG8fU"
      },
      "execution_count": null,
      "outputs": []
    },
    {
      "cell_type": "code",
      "source": [
        "## .count shows the total number of non null in each column.It can be applied on a single column as well as on a whole dataframe.\n",
        "df.count()"
      ],
      "metadata": {
        "id": "xgxhWuM3G_FA"
      },
      "execution_count": null,
      "outputs": []
    },
    {
      "cell_type": "code",
      "source": [
        "## .value_count shows all the unique values with their count in a column. It can be applied on a single column only.\n",
        "df['Company'].value_counts()"
      ],
      "metadata": {
        "id": "LO7R18stHDUc"
      },
      "execution_count": null,
      "outputs": []
    },
    {
      "cell_type": "code",
      "source": [
        "## .info provides basic information about the dataframe.\n",
        "df.info()"
      ],
      "metadata": {
        "id": "y2HcPFzOHIWB"
      },
      "execution_count": null,
      "outputs": []
    },
    {
      "cell_type": "code",
      "source": [
        "df.describe()"
      ],
      "metadata": {
        "id": "6xTT9Y8jHODl"
      },
      "execution_count": null,
      "outputs": []
    },
    {
      "cell_type": "code",
      "source": [
        "df.duplicated().sum()"
      ],
      "metadata": {
        "id": "r2LldvZ8HSd9"
      },
      "execution_count": null,
      "outputs": []
    },
    {
      "cell_type": "code",
      "source": [
        "df.isnull().sum()"
      ],
      "metadata": {
        "id": "l8SCfOYaHVph"
      },
      "execution_count": null,
      "outputs": []
    },
    {
      "cell_type": "code",
      "source": [
        "df['Ram'] = df['Ram'].str.replace('GB','')\n",
        "df['Weight'] = df['Weight'].str.replace('kg','')"
      ],
      "metadata": {
        "id": "4hXbltXRSlkm"
      },
      "execution_count": null,
      "outputs": []
    },
    {
      "cell_type": "code",
      "source": [
        "df['Company'].unique()"
      ],
      "metadata": {
        "id": "XTGG7VqrHZxw"
      },
      "execution_count": null,
      "outputs": []
    },
    {
      "cell_type": "code",
      "source": [
        "df.Company.replace(['Apple', 'HP', 'Acer', 'Asus', 'Dell', 'Lenovo', 'Chuwi', 'MSI','Microsoft', 'Toshiba', 'Huawei', 'Xiaomi', 'Vero','Razer','Mediacom', 'Samsung', 'Google', 'Fujitsu', 'LG'],[1,2,3,4,5,6,7,8,9,10,11,12,13,14,15,16,17,18,19], inplace=True)\n",
        "df['Company'].unique()"
      ],
      "metadata": {
        "id": "L5tGEIw2HeJj"
      },
      "execution_count": null,
      "outputs": []
    },
    {
      "cell_type": "code",
      "source": [
        "df['TypeName'].unique()"
      ],
      "metadata": {
        "id": "rxDI4JofHi9I"
      },
      "execution_count": null,
      "outputs": []
    },
    {
      "cell_type": "code",
      "source": [
        "df.TypeName.replace(['Ultrabook', 'Notebook', 'Netbook', 'Gaming', '2 in 1 Convertible','Workstation'],[1,2,3,4,5,6],inplace=True)\n",
        "df['TypeName'].unique()"
      ],
      "metadata": {
        "id": "qUDyjRs3Ho0u"
      },
      "execution_count": null,
      "outputs": []
    },
    {
      "cell_type": "code",
      "source": [
        "df['Inches'].unique()"
      ],
      "metadata": {
        "id": "0bCPRW5hHtG6"
      },
      "execution_count": null,
      "outputs": []
    },
    {
      "cell_type": "code",
      "source": [
        "df.Inches.replace([13.3, 15.6, 15.4, 14. , 12. , 11.6, 17.3, 10.1, 13.5, 12.5, 13. ,\n",
        "       18.4, 13.9, 12.3, 17. , 15. , 14.1, 11.3],[1,2,3,4,5,6,7,8,9,10,11,12,13,14,15,16,17,18],inplace=True)\n",
        "df['Inches'].unique()"
      ],
      "metadata": {
        "id": "RSDkMe7jH9Bt"
      },
      "execution_count": null,
      "outputs": []
    },
    {
      "cell_type": "code",
      "source": [
        "# df['Cpu'].unique()"
      ],
      "metadata": {
        "id": "Wjmz-CcOIn6o"
      },
      "execution_count": null,
      "outputs": []
    },
    {
      "cell_type": "code",
      "source": [
        "# df.Cpu.replace(['Intel Core i5 2.3GHz', 'Intel Core i5 1.8GHz',\n",
        "      # 'Intel Core i5 7200U 2.5GHz', 'Intel Core i7 2.7GHz',\n",
        "       #'Intel Core i5 3.1GHz', 'AMD A9-Series 9420 3GHz',\n",
        "       #'Intel Core i7 2.2GHz', 'Intel Core i7 8550U 1.8GHz',\n",
        "       #'Intel Core i5 8250U 1.6GHz', 'Intel Core i3 6006U 2GHz',\n",
        "       #'Intel Core i7 2.8GHz', 'Intel Core M m3 1.2GHz',\n",
        "       #'Intel Core i7 7500U 2.7GHz', 'Intel Core i7 2.9GHz',\n",
        "       #'Intel Core i3 7100U 2.4GHz', 'Intel Atom x5-Z8350 1.44GHz',\n",
        "       #'Intel Core i5 7300HQ 2.5GHz', 'AMD E-Series E2-9000e 1.5GHz',\n",
        "      # 'Intel Core i5 1.6GHz', 'Intel Core i7 8650U 1.9GHz',\n",
        "      # 'Intel Atom x5-Z8300 1.44GHz', 'AMD E-Series E2-6110 1.5GHz',\n",
        "      # 'AMD A6-Series 9220 2.5GHz',\n",
        "     #  'Intel Celeron Dual Core N3350 1.1GHz',\n",
        "     #  'Intel Core i3 7130U 2.7GHz', 'Intel Core i7 7700HQ 2.8GHz',\n",
        "      # 'Intel Core i5 2.0GHz', 'AMD Ryzen 1700 3GHz',\n",
        "    #   'Intel Pentium Quad Core N4200 1.1GHz',\n",
        "     #  'Intel Atom x5-Z8550 1.44GHz',\n",
        "      # 'Intel Celeron Dual Core N3060 1.6GHz', 'Intel Core i5 1.3GHz',\n",
        "   #    'AMD FX 9830P 3GHz', 'Intel Core i7 7560U 2.4GHz',\n",
        "    #   'AMD E-Series 6110 1.5GHz', 'Intel Core i5 6200U 2.3GHz',\n",
        "    #   'Intel Core M 6Y75 1.2GHz', 'Intel Core i5 7500U 2.7GHz',\n",
        "    #   'Intel Core i3 6006U 2.2GHz', 'AMD A6-Series 9220 2.9GHz',\n",
        "    #   'Intel Core i7 6920HQ 2.9GHz', 'Intel Core i5 7Y54 1.2GHz',\n",
        "    #   'Intel Core i7 7820HK 2.9GHz', 'Intel Xeon E3-1505M V6 3GHz',\n",
        "    #   'Intel Core i7 6500U 2.5GHz', 'AMD E-Series 9000e 1.5GHz',\n",
        "    #   'AMD A10-Series A10-9620P 2.5GHz', 'AMD A6-Series A6-9220 2.5GHz',\n",
        "    #   'Intel Core i5 2.9GHz', 'Intel Core i7 6600U 2.6GHz',\n",
        "    #   'Intel Core i3 6006U 2.0GHz',\n",
        "    #   'Intel Celeron Dual Core 3205U 1.5GHz',\n",
        "  #     'Intel Core i7 7820HQ 2.9GHz', 'AMD A10-Series 9600P 2.4GHz',\n",
        "   #    'Intel Core i7 7600U 2.8GHz', 'AMD A8-Series 7410 2.2GHz',\n",
        "    #   'Intel Celeron Dual Core 3855U 1.6GHz',\n",
        "     #  'Intel Pentium Quad Core N3710 1.6GHz',\n",
        "      # 'AMD A12-Series 9720P 2.7GHz', 'Intel Core i5 7300U 2.6GHz',\n",
        "#       'AMD A12-Series 9720P 3.6GHz',\n",
        " #      'Intel Celeron Quad Core N3450 1.1GHz',\n",
        "  #     'Intel Celeron Dual Core N3060 1.60GHz',\n",
        "   #    'Intel Core i5 6440HQ 2.6GHz', 'Intel Core i7 6820HQ 2.7GHz',\n",
        "    #   'AMD Ryzen 1600 3.2GHz', 'Intel Core i7 7Y75 1.3GHz',\n",
        "     #  'Intel Core i5 7440HQ 2.8GHz', 'Intel Core i7 7660U 2.5GHz',\n",
        "      # 'Intel Core i7 7700HQ 2.7GHz', 'Intel Core M m3-7Y30 2.2GHz',\n",
        "       #'Intel Core i5 7Y57 1.2GHz', 'Intel Core i7 6700HQ 2.6GHz',\n",
        "#       'Intel Core i3 6100U 2.3GHz', 'AMD A10-Series 9620P 2.5GHz',\n",
        " #      'AMD E-Series 7110 1.8GHz', 'Intel Celeron Dual Core N3350 2.0GHz',\n",
        "  #     'AMD A9-Series A9-9420 3GHz', 'Intel Core i7 6820HK 2.7GHz',\n",
        "   #    'Intel Core M 7Y30 1.0GHz', 'Intel Xeon E3-1535M v6 3.1GHz',\n",
        "    #   'Intel Celeron Quad Core N3160 1.6GHz',\n",
        "     #  'Intel Core i5 6300U 2.4GHz', 'Intel Core i3 6100U 2.1GHz',\n",
        "      # 'AMD E-Series E2-9000 2.2GHz',\n",
        "#       #'Intel Celeron Dual Core N3050 1.6GHz',\n",
        " #      'Intel Core M M3-6Y30 0.9GHz', 'AMD A9-Series 9420 2.9GHz',\n",
        "  #     'Intel Core i5 6300HQ 2.3GHz', 'AMD A6-Series 7310 2GHz',\n",
        "#       'Intel Atom Z8350 1.92GHz', 'Intel Xeon E3-1535M v5 2.9GHz',\n",
        "#       'Intel Core i5 6260U 1.8GHz',\n",
        "#       'Intel Pentium Dual Core N4200 1.1GHz',\n",
        "#       'Intel Celeron Quad Core N3710 1.6GHz', 'Intel Core M 1.2GHz',\n",
        "#       'AMD A12-Series 9700P 2.5GHz', 'Intel Core i7 7500U 2.5GHz',\n",
        "#       'Intel Pentium Dual Core 4405U 2.1GHz',\n",
        "#       'AMD A4-Series 7210 2.2GHz', 'Intel Core i7 6560U 2.2GHz',\n",
        "#       'Intel Core M m7-6Y75 1.2GHz', 'AMD FX 8800P 2.1GHz',\n",
        "#       'Intel Core M M7-6Y75 1.2GHz', 'Intel Core i5 7200U 2.50GHz',\n",
        "#       'Intel Core i5 7200U 2.70GHz', 'Intel Atom X5-Z8350 1.44GHz',\n",
        "#       'Intel Core i5 7200U 2.7GHz', 'Intel Core M 1.1GHz',\n",
        "#       'Intel Pentium Dual Core 4405Y 1.5GHz',\n",
        "#       'Intel Pentium Quad Core N3700 1.6GHz', 'Intel Core M 6Y54 1.1GHz',\n",
        "#       'Intel Core i7 6500U 2.50GHz',\n",
        "#       'Intel Celeron Dual Core N3350 2GHz',\n",
        "#       'Samsung Cortex A72&A53 2.0GHz', 'AMD E-Series 9000 2.2GHz',\n",
        "#       'Intel Core M 6Y30 0.9GHz', 'AMD A9-Series 9410 2.9GHz'],[1,2,3,4,5,6,7,8,9,10,11,12,13,14,15,16,17,18,19,20,21,22,23,24,25,26,27,28,29,30,31,32,33,34,35,36,37,38,39,40,41,42,43,44,45,46,47,48,49,50,51,52,53,54,55,56,57,58,59,60,61,62,63,64,65,66,67,68,69,70,71,72,73,74,75,76,77,78,79,80,81,82,83,84,85,86,87,88,89,90,91,92,93,94,95,96,97,98,99,100,101,102,103,104,105,106,107,108,109,110,111,112,113,114,115,116,117,118],inplace=True)\n",
        "# df['Cpu'].unique()"
      ],
      "metadata": {
        "id": "stjipSbXJBbF"
      },
      "execution_count": null,
      "outputs": []
    },
    {
      "cell_type": "code",
      "source": [
        "# df['Gpu'].unique()"
      ],
      "metadata": {
        "id": "u2HLlSRtMIS7"
      },
      "execution_count": null,
      "outputs": []
    },
    {
      "cell_type": "code",
      "source": [
        "#      df.Gpu.replace(['Intel Iris Plus Graphics 640', 'Intel HD Graphics 6000',\n",
        "#       'Intel HD Graphics 620', 'AMD Radeon Pro 455',\n",
        "#       'Intel Iris Plus Graphics 650', 'AMD Radeon R5',\n",
        "#       'Intel Iris Pro Graphics', 'Nvidia GeForce MX150',\n",
        "#       'Intel UHD Graphics 620', 'Intel HD Graphics 520',\n",
        "#       'AMD Radeon Pro 555', 'AMD Radeon R5 M430',\n",
        "#       'Intel HD Graphics 615', 'AMD Radeon Pro 560',\n",
        "#       'Nvidia GeForce 940MX', 'Intel HD Graphics 400',\n",
        "#       'Nvidia GeForce GTX 1050', 'AMD Radeon R2', 'AMD Radeon 530',\n",
        "#       'Nvidia GeForce 930MX', 'Intel HD Graphics',\n",
        "#       'Intel HD Graphics 500', 'Nvidia GeForce 930MX ',\n",
        "#       'Nvidia GeForce GTX 1060', 'Nvidia GeForce 150MX',\n",
        "#       'Intel Iris Graphics 540', 'AMD Radeon RX 580',\n",
        "#       'Nvidia GeForce 920MX', 'AMD Radeon R4 Graphics', 'AMD Radeon 520',\n",
        "#       'Nvidia GeForce GTX 1070', 'Nvidia GeForce GTX 1050 Ti',\n",
        "#       'Nvidia GeForce MX130', 'AMD R4 Graphics',\n",
        "#       'Nvidia GeForce GTX 940MX', 'AMD Radeon RX 560',\n",
        "#       'Nvidia GeForce 920M', 'AMD Radeon R7 M445', 'AMD Radeon RX 550',\n",
        "#       'Nvidia GeForce GTX 1050M', 'Intel HD Graphics 515',\n",
        "#       'AMD Radeon R5 M420', 'Intel HD Graphics 505',\n",
        "#       'Nvidia GTX 980 SLI', 'AMD R17M-M1-70', 'Nvidia GeForce GTX 1080',\n",
        "#       'Nvidia Quadro M1200', 'Nvidia GeForce 920MX ',\n",
        "#       'Nvidia GeForce GTX 950M', 'AMD FirePro W4190M ',\n",
        "#       'Nvidia GeForce GTX 980M', 'Intel Iris Graphics 550',\n",
        "#       'Nvidia GeForce 930M', 'Intel HD Graphics 630',\n",
        "#       'AMD Radeon R5 430', 'Nvidia GeForce GTX 940M',\n",
        "#       'Intel HD Graphics 510', 'Intel HD Graphics 405',\n",
        "#       'AMD Radeon RX 540', 'Nvidia GeForce GT 940MX',\n",
        "#       'AMD FirePro W5130M', 'Nvidia Quadro M2200M', 'AMD Radeon R4',\n",
        "#       'Nvidia Quadro M620', 'AMD Radeon R7 M460',\n",
        "#       'Intel HD Graphics 530', 'Nvidia GeForce GTX 965M',\n",
        "#       'Nvidia GeForce GTX1080', 'Nvidia GeForce GTX1050 Ti',\n",
        "#       'Nvidia GeForce GTX 960M', 'AMD Radeon R2 Graphics',\n",
        "#       'Nvidia Quadro M620M', 'Nvidia GeForce GTX 970M',\n",
        "#       'Nvidia GeForce GTX 960<U+039C>', 'Intel Graphics 620',\n",
        "#       'Nvidia GeForce GTX 960', 'AMD Radeon R5 520',\n",
        "##       'AMD Radeon R7 M440', 'AMD Radeon R7', 'Nvidia Quadro M520M',\n",
        "#       'Nvidia Quadro M2200', 'Nvidia Quadro M2000M',\n",
        "#       'Intel HD Graphics 540', 'Nvidia Quadro M1000M', 'AMD Radeon 540',\n",
        "#       'Nvidia GeForce GTX 1070M', 'Nvidia GeForce GTX1060',\n",
        "#       'Intel HD Graphics 5300', 'AMD Radeon R5 M420X',\n",
        "#       'AMD Radeon R7 Graphics', 'Nvidia GeForce 920',\n",
        "#       'Nvidia GeForce 940M', 'Nvidia GeForce GTX 930MX',\n",
        "#       'AMD Radeon R7 M465', 'AMD Radeon R3', 'Nvidia GeForce GTX 1050Ti',\n",
        "#       'AMD Radeon R7 M365X', 'AMD Radeon R9 M385',\n",
        "#       'Intel HD Graphics 620 ', 'Nvidia Quadro 3000M',       'Nvidia GeForce GTX 980 ', 'AMD Radeon R5 M330',\n",
        "#       'AMD FirePro W4190M', 'AMD FirePro W6150M', 'AMD Radeon R5 M315',\n",
        "#       'Nvidia Quadro M500M', 'AMD Radeon R7 M360',\n",
        "#       'Nvidia Quadro M3000M', 'Nvidia GeForce 960M', 'ARM Mali T860 MP4'],[1,2,3,4,5,6,7,8,9,10,11,12,13,14,15,16,17,18,19,20,21,22,23,  24,  25,  26,27,  28,  29,  30,  31,  32,  33,  34,  35,  36,  37,  38,  39, 40,  41,  42,  43,  44,  45,  46,  47,  48,  49,  50,  51,  52,53,  54,  55,  56,  57,  58,  59,  60,  61,  62,  63,  64,  65, 66,  67,  68,  69,  70,  71,  72,  73,  74,  75,  76,  77,  78,\n",
        "#        79,  80,  81,  82,  83,  84,  85,  86,87,  88,  89,  90,  91,92,93,  94,  95,  96,  97,  98, 99, 100, 101, 102, 103, 104,105, 106, 107, 108, 109, 110],inplace=True)\n",
        "#df['Gpu'].unique()"
      ],
      "metadata": {
        "id": "bU6USoE4NHrB"
      },
      "execution_count": null,
      "outputs": []
    },
    {
      "cell_type": "code",
      "source": [
        "df['OpSys'].unique()"
      ],
      "metadata": {
        "id": "-gz8w9CENWqZ"
      },
      "execution_count": null,
      "outputs": []
    },
    {
      "cell_type": "code",
      "source": [
        "df.OpSys.replace(['macOS', 'No OS', 'Windows 10', 'Mac OS X', 'Linux', 'Android',\n",
        "       'Windows 10 S', 'Chrome OS', 'Windows 7'],[1,2,3,4,5,6,7,8,9],inplace=True)"
      ],
      "metadata": {
        "id": "ph-FOVTy1tgy"
      },
      "execution_count": null,
      "outputs": []
    },
    {
      "cell_type": "code",
      "source": [
        "df['OpSys'].unique()"
      ],
      "metadata": {
        "id": "bLHHuJmL2BkB"
      },
      "execution_count": null,
      "outputs": []
    },
    {
      "cell_type": "code",
      "source": [
        "df['Ram'].unique()"
      ],
      "metadata": {
        "id": "aUCgaLkB2Tlq"
      },
      "execution_count": null,
      "outputs": []
    },
    {
      "cell_type": "code",
      "source": [
        "df['Memory'].unique()"
      ],
      "metadata": {
        "id": "I8de2JCY2kbF"
      },
      "execution_count": null,
      "outputs": []
    },
    {
      "cell_type": "code",
      "source": [
        "df.OpSys.replace(['128GB SSD', '128GB Flash Storage', '256GB SSD', '512GB SSD',\n",
        "       '500GB HDD', '256GB Flash Storage', '1TB HDD',\n",
        "       '32GB Flash Storage', '128GB SSD +  1TB HDD',\n",
        "       '256GB SSD +  256GB SSD', '64GB Flash Storage',\n",
        "       '256GB SSD +  1TB HDD', '256GB SSD +  2TB HDD', '32GB SSD',\n",
        "       '2TB HDD', '64GB SSD', '1.0TB Hybrid', '512GB SSD +  1TB HDD',\n",
        "       '1TB SSD', '256GB SSD +  500GB HDD', '128GB SSD +  2TB HDD',\n",
        "       '512GB SSD +  512GB SSD', '16GB SSD', '16GB Flash Storage',\n",
        "       '512GB SSD +  256GB SSD', '512GB SSD +  2TB HDD',\n",
        "       '64GB Flash Storage +  1TB HDD', '180GB SSD', '1TB HDD +  1TB HDD',\n",
        "       '32GB HDD', '1TB SSD +  1TB HDD', '512GB Flash Storage',\n",
        "       '128GB HDD', '240GB SSD', '8GB SSD', '508GB Hybrid', '1.0TB HDD',\n",
        "       '512GB SSD +  1.0TB Hybrid', '256GB SSD +  1.0TB Hybrid'],[1,2,3,4,5,6,7,8,9,10,11,12,13,14,15,16,17,18,19,20,21,22,23,24,25,26,27,28,29,30,31,32,33,34,35,36,37,38,39],inplace=True)\n",
        "df['Memory'].unique()"
      ],
      "metadata": {
        "id": "Xa_NGwCM2nrQ"
      },
      "execution_count": null,
      "outputs": []
    },
    {
      "cell_type": "code",
      "source": [
        "df"
      ],
      "metadata": {
        "id": "uXKM4JUq4k0_"
      },
      "execution_count": null,
      "outputs": []
    },
    {
      "cell_type": "code",
      "source": [],
      "metadata": {
        "id": "AwdhVpZYEXU7"
      },
      "execution_count": null,
      "outputs": []
    },
    {
      "cell_type": "markdown",
      "source": [
        "CLEANING AND VISUALIZE DATA\n"
      ],
      "metadata": {
        "id": "HqtYvs4JEYD0"
      }
    },
    {
      "cell_type": "code",
      "source": [
        "import seaborn as sns"
      ],
      "metadata": {
        "id": "aqd6w96L5Yj4"
      },
      "execution_count": null,
      "outputs": []
    },
    {
      "cell_type": "code",
      "source": [
        "sns.distplot(df['Price'])"
      ],
      "metadata": {
        "id": "Na1v0IK85xYR"
      },
      "execution_count": null,
      "outputs": []
    },
    {
      "cell_type": "code",
      "source": [
        "df['Company'].value_counts().plot(kind='bar')"
      ],
      "metadata": {
        "id": "Mxj4Cxs-50Gu"
      },
      "execution_count": null,
      "outputs": []
    },
    {
      "cell_type": "code",
      "source": [
        "sns.barplot(x=df['Company'],y=df['Price'])\n",
        "plt.xticks(rotation='vertical')\n",
        "plt.show()"
      ],
      "metadata": {
        "id": "05zv54IF54IX"
      },
      "execution_count": null,
      "outputs": []
    },
    {
      "cell_type": "code",
      "source": [
        "df['TypeName'].value_counts().plot(kind='bar')"
      ],
      "metadata": {
        "id": "zttXT1Ci58mD"
      },
      "execution_count": null,
      "outputs": []
    },
    {
      "cell_type": "code",
      "source": [
        "sns.barplot(x=df['TypeName'],y=df['Price'])\n",
        "plt.xticks(rotation='vertical')\n",
        "plt.show()"
      ],
      "metadata": {
        "id": "v1Tn_pzm6BYx"
      },
      "execution_count": null,
      "outputs": []
    },
    {
      "cell_type": "code",
      "source": [
        "sns.distplot(df['Inches'])"
      ],
      "metadata": {
        "id": "qLIG9YuX6Fl9"
      },
      "execution_count": null,
      "outputs": []
    },
    {
      "cell_type": "code",
      "source": [
        "sns.scatterplot(x=df['Inches'],y=df['Price'])"
      ],
      "metadata": {
        "id": "k5lGVK1O6KmE"
      },
      "execution_count": null,
      "outputs": []
    },
    {
      "cell_type": "code",
      "source": [
        "df['ScreenResolution'].value_counts()"
      ],
      "metadata": {
        "id": "ZFrNHHE56OKG"
      },
      "execution_count": null,
      "outputs": []
    },
    {
      "cell_type": "code",
      "source": [
        "df['Touchscreen'] = df['ScreenResolution'].apply(lambda x:1 if 'Touchscreen' in x else 0)"
      ],
      "metadata": {
        "id": "THma1jy96Uox"
      },
      "execution_count": null,
      "outputs": []
    },
    {
      "cell_type": "code",
      "source": [
        "df.sample(5)"
      ],
      "metadata": {
        "id": "tVsdOCOT6duI"
      },
      "execution_count": null,
      "outputs": []
    },
    {
      "cell_type": "code",
      "source": [
        "df['Touchscreen'].value_counts().plot(kind='bar')"
      ],
      "metadata": {
        "id": "H77ZzdZb6gz-"
      },
      "execution_count": null,
      "outputs": []
    },
    {
      "cell_type": "code",
      "source": [
        "sns.barplot(x=df['Touchscreen'],y=df['Price'])"
      ],
      "metadata": {
        "id": "P5UpvMxt6mTe"
      },
      "execution_count": null,
      "outputs": []
    },
    {
      "cell_type": "code",
      "source": [
        "df['Ips'] = df['ScreenResolution'].apply(lambda x:1 if 'IPS' in x else 0)"
      ],
      "metadata": {
        "id": "BwaVVZOl6qmE"
      },
      "execution_count": null,
      "outputs": []
    },
    {
      "cell_type": "code",
      "source": [
        "df.head()"
      ],
      "metadata": {
        "id": "z7ho7H7_6wGD"
      },
      "execution_count": null,
      "outputs": []
    },
    {
      "cell_type": "code",
      "source": [
        "df['Ips'].unique()"
      ],
      "metadata": {
        "id": "_igFGB1hQn7T"
      },
      "execution_count": null,
      "outputs": []
    },
    {
      "cell_type": "code",
      "source": [
        "df['Ips'].value_counts().plot(kind='bar')"
      ],
      "metadata": {
        "id": "m730Itd460Bx"
      },
      "execution_count": null,
      "outputs": []
    },
    {
      "cell_type": "code",
      "source": [
        "sns.barplot(x=df['Ips'],y=df['Price'])"
      ],
      "metadata": {
        "id": "1Jz5NIeF65Um"
      },
      "execution_count": null,
      "outputs": []
    },
    {
      "cell_type": "code",
      "source": [
        "new = df['ScreenResolution'].str.split('x',n=1,expand=True)"
      ],
      "metadata": {
        "id": "-4qf4uZd6-fz"
      },
      "execution_count": null,
      "outputs": []
    },
    {
      "cell_type": "code",
      "source": [
        "df['X_res'] = new[0]\n",
        "df['Y_res'] = new[1]"
      ],
      "metadata": {
        "id": "oetbjmWF7EmA"
      },
      "execution_count": null,
      "outputs": []
    },
    {
      "cell_type": "code",
      "source": [
        "df.sample(5)"
      ],
      "metadata": {
        "id": "LjIRnI9V7HKh"
      },
      "execution_count": null,
      "outputs": []
    },
    {
      "cell_type": "code",
      "source": [
        "df['X_res'] = df['X_res'].str.replace(',','').str.findall(r'(\\d+\\.?\\d+)').apply(lambda x:x[0])\n"
      ],
      "metadata": {
        "id": "efqnP73e7K2V"
      },
      "execution_count": null,
      "outputs": []
    },
    {
      "cell_type": "code",
      "source": [
        "df.head()"
      ],
      "metadata": {
        "id": "6MgACmjV7Pvy"
      },
      "execution_count": null,
      "outputs": []
    },
    {
      "cell_type": "code",
      "source": [
        "df['X_res'] = df['X_res'].astype('int')\n",
        "df['Y_res'] = df['Y_res'].astype('int')\n",
        "df.info()"
      ],
      "metadata": {
        "id": "4y3WotId7S7h"
      },
      "execution_count": null,
      "outputs": []
    },
    {
      "cell_type": "code",
      "source": [
        "df.corr()['Price']"
      ],
      "metadata": {
        "id": "qmZtbFrS7Xje"
      },
      "execution_count": null,
      "outputs": []
    },
    {
      "cell_type": "code",
      "source": [
        "df['ppi'] = (((df['X_res']**2) + (df['Y_res']**2))**0.5/df['Inches']).astype('float')"
      ],
      "metadata": {
        "id": "bOgp7D2V7cu7"
      },
      "execution_count": null,
      "outputs": []
    },
    {
      "cell_type": "code",
      "source": [
        "df.corr()['Price']"
      ],
      "metadata": {
        "id": "TE2YDwP47h8j"
      },
      "execution_count": null,
      "outputs": []
    },
    {
      "cell_type": "code",
      "source": [
        "df.drop(columns=['ScreenResolution'],inplace=True)\n"
      ],
      "metadata": {
        "id": "WnNY0XJ-7mLb"
      },
      "execution_count": null,
      "outputs": []
    },
    {
      "cell_type": "code",
      "source": [
        "df.drop(columns=['Unnamed: 0'],inplace=True)\n"
      ],
      "metadata": {
        "id": "NPKoLU8D7qZa"
      },
      "execution_count": null,
      "outputs": []
    },
    {
      "cell_type": "code",
      "source": [
        "df.drop(columns=['Inches','X_res','Y_res'],inplace=True)\n"
      ],
      "metadata": {
        "id": "rpHKjf1k7yNf"
      },
      "execution_count": null,
      "outputs": []
    },
    {
      "cell_type": "code",
      "source": [
        "df.head()"
      ],
      "metadata": {
        "id": "6ZdLjsKs_Q9j"
      },
      "execution_count": null,
      "outputs": []
    },
    {
      "cell_type": "code",
      "source": [
        "df['Cpu'].value_counts()"
      ],
      "metadata": {
        "id": "yATRmwRkD6Cw"
      },
      "execution_count": null,
      "outputs": []
    },
    {
      "cell_type": "code",
      "source": [
        "df['Cpu Name'] = df['Cpu'].apply(lambda x:\" \".join(x.split()[0:3]))"
      ],
      "metadata": {
        "id": "BEwD4707D6Ti"
      },
      "execution_count": null,
      "outputs": []
    },
    {
      "cell_type": "code",
      "source": [
        "df.head()"
      ],
      "metadata": {
        "id": "6ATcM0C7EE1e"
      },
      "execution_count": null,
      "outputs": []
    },
    {
      "cell_type": "code",
      "source": [
        "def fetch_processor(text):\n",
        "    if text == 'Intel Core i7' or text == 'Intel Core i5' or text == 'Intel Core i3':\n",
        "        return text\n",
        "    else:\n",
        "        if text.split()[0] == 'Intel':\n",
        "            return 'Other Intel Processor'\n",
        "        else:\n",
        "            return 'AMD Processor'\n",
        "df['Cpu brand'] = df['Cpu Name'].apply(fetch_processor)\n",
        "df.head()"
      ],
      "metadata": {
        "id": "1vjNwogwEE7V"
      },
      "execution_count": null,
      "outputs": []
    },
    {
      "cell_type": "code",
      "source": [
        "df['Cpu brand'].unique()"
      ],
      "metadata": {
        "id": "boLA0UAoRyzc"
      },
      "execution_count": null,
      "outputs": []
    },
    {
      "cell_type": "code",
      "source": [
        "df['Cpu brand'].value_counts().plot(kind='bar')"
      ],
      "metadata": {
        "id": "7Hj4oTL2EFDT"
      },
      "execution_count": null,
      "outputs": []
    },
    {
      "cell_type": "code",
      "source": [
        "sns.barplot(x=df['Cpu brand'],y=df['Price'])\n",
        "plt.xticks(rotation='vertical')\n",
        "plt.show()"
      ],
      "metadata": {
        "id": "_m6ZTBg-EFLd"
      },
      "execution_count": null,
      "outputs": []
    },
    {
      "cell_type": "code",
      "source": [
        "df.drop(columns=['Cpu','Cpu Name'],inplace=True)\n",
        "df.head()\n"
      ],
      "metadata": {
        "id": "MHlEOoFoEdFq"
      },
      "execution_count": null,
      "outputs": []
    },
    {
      "cell_type": "code",
      "source": [
        "df['Ram'].value_counts().plot(kind='bar')"
      ],
      "metadata": {
        "id": "vES_jT4EEdRr"
      },
      "execution_count": null,
      "outputs": []
    },
    {
      "cell_type": "code",
      "source": [
        "sns.barplot(x=df['Ram'],y=df['Price'])\n",
        "plt.xticks(rotation='vertical')\n",
        "plt.show()"
      ],
      "metadata": {
        "id": "6MPtqmNmEdel"
      },
      "execution_count": null,
      "outputs": []
    },
    {
      "cell_type": "code",
      "source": [
        "df['Memory'].value_counts()"
      ],
      "metadata": {
        "id": "oM8RHSQiEqEy"
      },
      "execution_count": null,
      "outputs": []
    },
    {
      "cell_type": "code",
      "source": [
        "df['Memory'] = df['Memory'].astype(str).replace('\\.0', '', regex=True)\n",
        "df[\"Memory\"] = df[\"Memory\"].str.replace('GB', '')\n",
        "df[\"Memory\"] = df[\"Memory\"].str.replace('TB', '000')\n",
        "new = df[\"Memory\"].str.split(\"+\", n = 1, expand = True)\n",
        "\n",
        "df[\"first\"]= new[0]\n",
        "df[\"first\"]=df[\"first\"].str.strip()\n",
        "\n",
        "df[\"second\"]= new[1]\n",
        "\n",
        "df[\"Layer1HDD\"] = df[\"first\"].apply(lambda x: 1 if \"HDD\" in x else 0)\n",
        "df[\"Layer1SSD\"] = df[\"first\"].apply(lambda x: 1 if \"SSD\" in x else 0)\n",
        "df[\"Layer1Hybrid\"] = df[\"first\"].apply(lambda x: 1 if \"Hybrid\" in x else 0)\n",
        "df[\"Layer1Flash_Storage\"] = df[\"first\"].apply(lambda x: 1 if \"Flash Storage\" in x else 0)\n",
        "\n",
        "df['first'] = df['first'].str.replace(r'\\D', '')\n",
        "\n",
        "df[\"second\"].fillna(\"0\", inplace = True)\n",
        "\n",
        "df[\"Layer2HDD\"] = df[\"second\"].apply(lambda x: 1 if \"HDD\" in x else 0)\n",
        "df[\"Layer2SSD\"] = df[\"second\"].apply(lambda x: 1 if \"SSD\" in x else 0)\n",
        "df[\"Layer2Hybrid\"] = df[\"second\"].apply(lambda x: 1 if \"Hybrid\" in x else 0)\n",
        "df[\"Layer2Flash_Storage\"] = df[\"second\"].apply(lambda x: 1 if \"Flash Storage\" in x else 0)\n",
        "\n",
        "df['second'] = df['second'].str.replace(r'\\D', '')\n",
        "\n",
        "df[\"first\"] = df[\"first\"].astype(int)\n",
        "df[\"second\"] = df[\"second\"].astype(int)\n",
        "\n",
        "df[\"HDD\"]=(df[\"first\"]*df[\"Layer1HDD\"]+df[\"second\"]*df[\"Layer2HDD\"])\n",
        "df[\"SSD\"]=(df[\"first\"]*df[\"Layer1SSD\"]+df[\"second\"]*df[\"Layer2SSD\"])\n",
        "df[\"Hybrid\"]=(df[\"first\"]*df[\"Layer1Hybrid\"]+df[\"second\"]*df[\"Layer2Hybrid\"])\n",
        "df[\"Flash_Storage\"]=(df[\"first\"]*df[\"Layer1Flash_Storage\"]+df[\"second\"]*df[\"Layer2Flash_Storage\"])\n",
        "\n",
        "df.drop(columns=['first', 'second', 'Layer1HDD', 'Layer1SSD', 'Layer1Hybrid',\n",
        "       'Layer1Flash_Storage', 'Layer2HDD', 'Layer2SSD', 'Layer2Hybrid',\n",
        "       'Layer2Flash_Storage'],inplace=True)"
      ],
      "metadata": {
        "id": "FV4E308NEqLW"
      },
      "execution_count": null,
      "outputs": []
    },
    {
      "cell_type": "code",
      "source": [
        "df.sample(5)"
      ],
      "metadata": {
        "id": "sdT1Kn5HEqQt"
      },
      "execution_count": null,
      "outputs": []
    },
    {
      "cell_type": "code",
      "source": [
        "df['HDD'].unique()"
      ],
      "metadata": {
        "id": "Vj7mAg4YTX6T"
      },
      "execution_count": null,
      "outputs": []
    },
    {
      "cell_type": "code",
      "source": [
        "df.drop(columns=['Memory'],inplace=True)\n",
        "df.head()"
      ],
      "metadata": {
        "id": "5bj4UvITEqWU"
      },
      "execution_count": null,
      "outputs": []
    },
    {
      "cell_type": "code",
      "source": [
        "df.corr()['Price']"
      ],
      "metadata": {
        "id": "k9FwCTGcFGCI"
      },
      "execution_count": null,
      "outputs": []
    },
    {
      "cell_type": "code",
      "source": [
        "df.drop(columns=['Hybrid','Flash_Storage'],inplace=True)\n",
        "df.head()"
      ],
      "metadata": {
        "id": "ZpKEJHSPFGKc"
      },
      "execution_count": null,
      "outputs": []
    },
    {
      "cell_type": "code",
      "source": [
        "df['Gpu'].value_counts()"
      ],
      "metadata": {
        "id": "0XAluNCyFGQJ"
      },
      "execution_count": null,
      "outputs": []
    },
    {
      "cell_type": "code",
      "source": [
        "df['Gpu brand'] = df['Gpu'].apply(lambda x:x.split()[0])\n",
        "df.head()"
      ],
      "metadata": {
        "id": "FcVVq-1eFZM1"
      },
      "execution_count": null,
      "outputs": []
    },
    {
      "cell_type": "code",
      "source": [
        "df['Gpu brand'].value_counts()"
      ],
      "metadata": {
        "id": "TF2rYzIGFZTx"
      },
      "execution_count": null,
      "outputs": []
    },
    {
      "cell_type": "code",
      "source": [
        "sns.barplot(x=df['Gpu brand'],y=df['Price'],estimator=np.median)\n",
        "plt.xticks(rotation='vertical')\n",
        "plt.show()"
      ],
      "metadata": {
        "id": "OLjdEu-hFZf6"
      },
      "execution_count": null,
      "outputs": []
    },
    {
      "cell_type": "code",
      "source": [
        "df.drop(columns=['Gpu'],inplace=True)"
      ],
      "metadata": {
        "id": "UzgWClz_F0bi"
      },
      "execution_count": null,
      "outputs": []
    },
    {
      "cell_type": "code",
      "source": [
        "df.head()"
      ],
      "metadata": {
        "id": "fQ6lbBmtF0qn"
      },
      "execution_count": null,
      "outputs": []
    },
    {
      "cell_type": "code",
      "source": [
        "df['Gpu brand'].unique()"
      ],
      "metadata": {
        "id": "AxJGz75nG4qd"
      },
      "execution_count": null,
      "outputs": []
    },
    {
      "cell_type": "code",
      "source": [
        "df.rename(columns = {'Gpu brand':'Gpu_brand'}, inplace = True)\n"
      ],
      "metadata": {
        "id": "QvoI3fj5G47P"
      },
      "execution_count": null,
      "outputs": []
    },
    {
      "cell_type": "code",
      "source": [
        "df.Gpu_brand.replace(['Intel', 'AMD', 'Nvidia'],[1,2,3],inplace=True)\n",
        "df['Gpu_brand'].unique()"
      ],
      "metadata": {
        "id": "4wjDHPC0HZ2n"
      },
      "execution_count": null,
      "outputs": []
    },
    {
      "cell_type": "code",
      "source": [
        "df"
      ],
      "metadata": {
        "id": "GQpM7b-3HZ96"
      },
      "execution_count": null,
      "outputs": []
    },
    {
      "cell_type": "code",
      "source": [
        "df['Cpu brand'].unique()"
      ],
      "metadata": {
        "id": "PGf6BSLVIDqi"
      },
      "execution_count": null,
      "outputs": []
    },
    {
      "cell_type": "code",
      "source": [
        "df.rename(columns = {'Cpu brand':'Cpu_brand'}, inplace = True)\n"
      ],
      "metadata": {
        "id": "HDh9akvWIECL"
      },
      "execution_count": null,
      "outputs": []
    },
    {
      "cell_type": "code",
      "source": [
        "df.Cpu_brand.replace(['Intel Core i5', 'Intel Core i7', 'AMD Processor', 'Intel Core i3',\n",
        "       'Other Intel Processor'],[1,2,3,4,5],inplace=True)\n",
        "df['Cpu_brand'].unique()"
      ],
      "metadata": {
        "id": "6zwZIjGqIEP2"
      },
      "execution_count": null,
      "outputs": []
    },
    {
      "cell_type": "code",
      "source": [
        "df['ppi'].unique()"
      ],
      "metadata": {
        "id": "Zph2VD5TJVZD"
      },
      "execution_count": null,
      "outputs": []
    },
    {
      "cell_type": "code",
      "source": [
        "df"
      ],
      "metadata": {
        "id": "7VBCbfcyIs_h"
      },
      "execution_count": null,
      "outputs": []
    },
    {
      "cell_type": "code",
      "source": [
        "df.drop(columns=['ppi'],inplace=True)"
      ],
      "metadata": {
        "id": "l9QJdpO-HV4W"
      },
      "execution_count": null,
      "outputs": []
    },
    {
      "cell_type": "code",
      "source": [
        "df.dtypes"
      ],
      "metadata": {
        "id": "RLushtJnH3u6"
      },
      "execution_count": null,
      "outputs": []
    },
    {
      "cell_type": "code",
      "source": [
        "df['Ram'] = df['Ram'].astype('int32')\n",
        "df['Weight'] = df['Weight'].astype('float32')"
      ],
      "metadata": {
        "id": "FFIswGYANTyO"
      },
      "execution_count": null,
      "outputs": []
    },
    {
      "cell_type": "code",
      "source": [
        "df.info()"
      ],
      "metadata": {
        "id": "b4wNeU3CN0sO"
      },
      "execution_count": null,
      "outputs": []
    },
    {
      "cell_type": "code",
      "source": [
        "# def cat_os(inp):\n",
        "#    if inp == 'Windows 10' or inp == 'Windows 7' or inp == 'Windows 10 S':\n",
        "#        return 'Windows'\n",
        "#    elif inp == 'macOS' or inp == 'Mac OS X':\n",
        "#        return 'Mac'\n",
        "#    else:\n",
        "#        return 'Others/No OS/Linux'\n",
        "# df['os'] = df['OpSys'].apply(cat_os)"
      ],
      "metadata": {
        "id": "gnj1k1FJGALg"
      },
      "execution_count": null,
      "outputs": []
    },
    {
      "cell_type": "code",
      "source": [
        "df.head()"
      ],
      "metadata": {
        "id": "RbFk1LU6GAae"
      },
      "execution_count": null,
      "outputs": []
    },
    {
      "cell_type": "code",
      "source": [
        "sns.barplot(x=df['OpSys'],y=df['Price'])\n",
        "plt.xticks(rotation='vertical')\n",
        "plt.show()"
      ],
      "metadata": {
        "id": "bICFoomTF_9u"
      },
      "execution_count": null,
      "outputs": []
    },
    {
      "cell_type": "code",
      "source": [
        "df.drop(columns=['Gpu_brand'],inplace=True)"
      ],
      "metadata": {
        "id": "lC3lW4hnGVXN"
      },
      "execution_count": null,
      "outputs": []
    },
    {
      "cell_type": "code",
      "source": [
        "#sns.barplot(x=df['os'],y=df['Price'])\n",
        "#plt.xticks(rotation='vertical')\n",
        "#plt.show()"
      ],
      "metadata": {
        "id": "DsYaaMfuGVeB"
      },
      "execution_count": null,
      "outputs": []
    },
    {
      "cell_type": "code",
      "source": [
        "df.corr()['Price']"
      ],
      "metadata": {
        "id": "AWhpqtw6GiUU"
      },
      "execution_count": null,
      "outputs": []
    },
    {
      "cell_type": "code",
      "source": [
        "sns.heatmap(df.corr())"
      ],
      "metadata": {
        "id": "pMXi-el6G2C2"
      },
      "execution_count": null,
      "outputs": []
    },
    {
      "cell_type": "code",
      "source": [
        "import seaborn as sns\n",
        "corr=df.corr()\n",
        "sns.heatmap(corr,cmap=\"Reds\")"
      ],
      "metadata": {
        "id": "QIKPER3HG2JB"
      },
      "execution_count": null,
      "outputs": []
    },
    {
      "cell_type": "code",
      "source": [
        "sns.distplot(np.log(df['Price']))"
      ],
      "metadata": {
        "id": "mHkoIacWGia2"
      },
      "execution_count": null,
      "outputs": []
    },
    {
      "cell_type": "code",
      "source": [
        "X = df.drop(columns=['Price'])\n",
        "X\n"
      ],
      "metadata": {
        "id": "-fbBtk6lHJ4l"
      },
      "execution_count": null,
      "outputs": []
    },
    {
      "cell_type": "code",
      "source": [
        "y = np.log(df['Price'])\n",
        "y"
      ],
      "metadata": {
        "id": "n14KASBiHJ-X"
      },
      "execution_count": null,
      "outputs": []
    },
    {
      "cell_type": "code",
      "source": [
        "df.dtypes"
      ],
      "metadata": {
        "id": "39St3iGJFDn7"
      },
      "execution_count": null,
      "outputs": []
    },
    {
      "cell_type": "code",
      "source": [
        "laptop=df.to_csv(\"laptor.csv\")"
      ],
      "metadata": {
        "id": "D4xWQFZxNFmK"
      },
      "execution_count": null,
      "outputs": []
    },
    {
      "cell_type": "code",
      "source": [
        "laptop1=pd.read_csv(\"laptor.csv\")\n",
        "laptop1"
      ],
      "metadata": {
        "id": "VC3nV2ADNF2t"
      },
      "execution_count": null,
      "outputs": []
    },
    {
      "cell_type": "code",
      "source": [
        "lap=laptop1.drop(['Unnamed: 0'],axis=1)"
      ],
      "metadata": {
        "id": "egVkwrH9NGDX"
      },
      "execution_count": null,
      "outputs": []
    },
    {
      "cell_type": "code",
      "source": [
        "lap"
      ],
      "metadata": {
        "id": "gBcgj00aNSp-"
      },
      "execution_count": null,
      "outputs": []
    },
    {
      "cell_type": "code",
      "source": [
        "laptop2=lap.values\n",
        "laptop2"
      ],
      "metadata": {
        "id": "dCUnSsLhNTHY"
      },
      "execution_count": null,
      "outputs": []
    },
    {
      "cell_type": "code",
      "source": [
        "x=laptop2[:,[0,1,2,3,5,6,7,8,9]]\n",
        "x"
      ],
      "metadata": {
        "id": "2YMZdIFyNTUh"
      },
      "execution_count": null,
      "outputs": []
    },
    {
      "cell_type": "code",
      "source": [
        "y=laptop2[:,4]\n",
        "y"
      ],
      "metadata": {
        "id": "oR5CRcBENThq"
      },
      "execution_count": null,
      "outputs": []
    },
    {
      "cell_type": "code",
      "source": [
        "df.dtypes"
      ],
      "metadata": {
        "id": "APprANVpNTnK"
      },
      "execution_count": null,
      "outputs": []
    },
    {
      "cell_type": "markdown",
      "source": [
        "MACHINE LEARNING"
      ],
      "metadata": {
        "id": "IkBZPeeTFEgT"
      }
    },
    {
      "cell_type": "code",
      "source": [
        "from sklearn.model_selection import train_test_split\n",
        "X_train,X_test,y_train,y_test = train_test_split(X,y,test_size=0.15,random_state=2)\n",
        "from sklearn.compose import ColumnTransformer\n",
        "from sklearn.pipeline import Pipeline\n",
        "from sklearn.preprocessing import OneHotEncoder\n",
        "from sklearn.metrics import r2_score,mean_absolute_error\n",
        "from sklearn.ensemble import RandomForestRegressor\n",
        "from sklearn.linear_model import LinearRegression,Ridge,Lasso\n",
        "from sklearn.neighbors import KNeighborsRegressor\n",
        "from sklearn.tree import DecisionTreeRegressor\n",
        "from sklearn.ensemble import RandomForestRegressor,GradientBoostingRegressor,AdaBoostRegressor,ExtraTreesRegressor\n",
        "from sklearn.svm import SVR\n",
        "from xgboost import XGBRegressor\n",
        "\n"
      ],
      "metadata": {
        "id": "IbmkM-xyHKEc"
      },
      "execution_count": null,
      "outputs": []
    },
    {
      "cell_type": "markdown",
      "source": [
        "LINEAR REGRESSION"
      ],
      "metadata": {
        "id": "5Gchve1bMB7r"
      }
    },
    {
      "cell_type": "code",
      "source": [
        "step1 = ColumnTransformer(transformers=[\n",
        "    ('col_tnf',OneHotEncoder(sparse=False,drop='first'),[0])\n",
        "],remainder='passthrough')\n",
        "\n",
        "step2 = LinearRegression()\n",
        "\n",
        "pipe = Pipeline([\n",
        "    ('step1',step1),\n",
        "    ('step2',step2)\n",
        "])\n",
        "\n",
        "pipe.fit(X_train,y_train)\n",
        "\n",
        "y_pred = pipe.predict(X_test)\n",
        "\n",
        "print('R2 score',r2_score(y_test,y_pred))\n",
        "print('MAE',mean_absolute_error(y_test,y_pred))"
      ],
      "metadata": {
        "id": "SZmksL_wMFBZ"
      },
      "execution_count": null,
      "outputs": []
    },
    {
      "cell_type": "markdown",
      "source": [
        "RANDOM FOREST REGRESSOR"
      ],
      "metadata": {
        "id": "cZ3KLwfaWaGU"
      }
    },
    {
      "cell_type": "code",
      "source": [
        "step1 = ColumnTransformer(transformers=[\n",
        "    ('col_tnf',OneHotEncoder(sparse=False,drop='first'),[0])],remainder='passthrough')\n",
        "\n",
        "step2 = RandomForestRegressor(n_estimators=100,\n",
        "                              random_state=3,\n",
        "                              max_samples=0.5,\n",
        "                              max_features=0.75,\n",
        "                              max_depth=15)\n",
        "pipe = Pipeline([('step1',step1),('step2',step2)])\n",
        "pipe.fit(X_train,y_train)\n",
        "y_pred = pipe.predict(X_test)\n",
        "\n",
        "print('R2 score',r2_score(y_test,y_pred))\n",
        "print('MAE',mean_absolute_error(y_test,y_pred))"
      ],
      "metadata": {
        "id": "fU5A5sJbKaah"
      },
      "execution_count": null,
      "outputs": []
    },
    {
      "cell_type": "markdown",
      "source": [
        "VOTING REGRESSOR"
      ],
      "metadata": {
        "id": "GcWYTq1cWhSd"
      }
    },
    {
      "cell_type": "code",
      "source": [
        "from sklearn.ensemble import VotingRegressor,StackingRegressor\n",
        "\n",
        "step1 = ColumnTransformer(transformers=[\n",
        "    ('col_tnf',OneHotEncoder(sparse=False,drop='first'),[0])\n",
        "],remainder='passthrough')\n",
        "\n",
        "\n",
        "rf = RandomForestRegressor(n_estimators=350,random_state=3,max_features=0.75,max_depth=15)\n",
        "gbdt = GradientBoostingRegressor(n_estimators=100,max_features=0.5)\n",
        "xgb = XGBRegressor(n_estimators=25,learning_rate=0.3,max_depth=5)\n",
        "et = ExtraTreesRegressor(n_estimators=100,random_state=3,max_features=0.75,max_depth=10)\n",
        "\n",
        "step2 = VotingRegressor([('rf', rf), ('gbdt', gbdt), ('xgb',xgb), ('et',et)],weights=[5,1,1,1])\n",
        "\n",
        "pipe = Pipeline([\n",
        "    ('step1',step1),\n",
        "    ('step2',step2)\n",
        "])\n",
        "\n",
        "pipe.fit(X_train,y_train)\n",
        "\n",
        "y_pred = pipe.predict(X_test)\n",
        "\n",
        "print('R2 score',r2_score(y_test,y_pred))\n",
        "print('MAE',mean_absolute_error(y_test,y_pred))"
      ],
      "metadata": {
        "id": "LQWFwZg1Vl98"
      },
      "execution_count": null,
      "outputs": []
    },
    {
      "cell_type": "markdown",
      "source": [
        "XGBOOST"
      ],
      "metadata": {
        "id": "DmGR8PtbWuhg"
      }
    },
    {
      "cell_type": "code",
      "source": [
        "step1 = ColumnTransformer(transformers=[\n",
        "    ('col_tnf',OneHotEncoder(sparse=False,drop='first'),[0])\n",
        "],remainder='passthrough')\n",
        "\n",
        "step2 = XGBRegressor(n_estimators=45,max_depth=5,learning_rate=0.5)\n",
        "\n",
        "pipe = Pipeline([\n",
        "    ('step1',step1),\n",
        "    ('step2',step2)\n",
        "])\n",
        "\n",
        "pipe.fit(X_train,y_train)\n",
        "\n",
        "y_pred = pipe.predict(X_test)\n",
        "\n",
        "print('R2 score',r2_score(y_test,y_pred))\n",
        "print('MAE',mean_absolute_error(y_test,y_pred))"
      ],
      "metadata": {
        "id": "mpjkB6WeWtA4"
      },
      "execution_count": null,
      "outputs": []
    },
    {
      "cell_type": "markdown",
      "source": [
        "STACKING"
      ],
      "metadata": {
        "id": "jFXvjMz3W_Xi"
      }
    },
    {
      "cell_type": "code",
      "source": [
        "from sklearn.ensemble import VotingRegressor,StackingRegressor\n",
        "\n",
        "step1 = ColumnTransformer(transformers=[\n",
        "    ('col_tnf',OneHotEncoder(sparse=False,drop='first'),[0])\n",
        "],remainder='passthrough')\n",
        "\n",
        "\n",
        "estimators = [\n",
        "    ('rf', RandomForestRegressor(n_estimators=350,random_state=3,max_samples=0.5,max_features=0.75,max_depth=15)),\n",
        "    ('gbdt',GradientBoostingRegressor(n_estimators=100,max_features=0.5)),\n",
        "    ('xgb', XGBRegressor(n_estimators=25,learning_rate=0.3,max_depth=5))\n",
        "]\n",
        "\n",
        "step2 = StackingRegressor(estimators=estimators, final_estimator=Ridge(alpha=100))\n",
        "\n",
        "pipe = Pipeline([\n",
        "    ('step1',step1),\n",
        "    ('step2',step2)\n",
        "])\n",
        "\n",
        "pipe.fit(X_train,y_train)\n",
        "\n",
        "y_pred = pipe.predict(X_test)\n",
        "\n",
        "print('R2 score',r2_score(y_test,y_pred))\n",
        "print('MAE',mean_absolute_error(y_test,y_pred))"
      ],
      "metadata": {
        "id": "pnbJ-1ZkWxIw"
      },
      "execution_count": null,
      "outputs": []
    },
    {
      "cell_type": "code",
      "source": [],
      "metadata": {
        "id": "ittypp6TLFqy"
      },
      "execution_count": null,
      "outputs": []
    }
  ]
}